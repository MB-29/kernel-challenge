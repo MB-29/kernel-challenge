{
 "cells": [
  {
   "cell_type": "code",
   "execution_count": 70,
   "metadata": {},
   "outputs": [
    {
     "name": "stdout",
     "output_type": "stream",
     "text": [
      "The autoreload extension is already loaded. To reload it, use:\n",
      "  %reload_ext autoreload\n"
     ]
    }
   ],
   "source": [
    "%load_ext autoreload\n",
    "%autoreload 2"
   ]
  },
  {
   "cell_type": "markdown",
   "metadata": {},
   "source": [
    "# Kernel Ridge Regression"
   ]
  },
  {
   "cell_type": "code",
   "execution_count": 71,
   "metadata": {},
   "outputs": [],
   "source": [
    "import numpy as np\n",
    "import pandas as pd\n",
    "import matplotlib.pyplot as plt\n",
    "\n",
    "from models.kernel_rid_reg import LinKRR, GaussKRR"
   ]
  },
  {
   "cell_type": "markdown",
   "metadata": {},
   "source": [
    "## Point clouds"
   ]
  },
  {
   "cell_type": "code",
   "execution_count": 72,
   "metadata": {},
   "outputs": [],
   "source": [
    "n, d = 500, 2\n",
    "regularization_tradeoff = 100\n",
    "n_train, n_test = n//2, n//2\n",
    "\n",
    "X1 = np.random.multivariate_normal(\n",
    "    mean=[-1, 1], cov=[[1, 0], [0, 1]], size=n//2)\n",
    "X2 = np.random.multivariate_normal(\n",
    "    mean=[1, -1], cov=[[1, 0], [0, 1]], size=n//2)\n",
    "\n",
    "data = np.concatenate([X1, X2])\n",
    "indices = np.random.permutation(n)\n",
    "\n",
    "train_indices, test_indices = indices[:n_train], indices[n_train:n_train+n_test]\n",
    "train_data, test_data = data[train_indices],  data[test_indices]\n",
    "\n",
    "labels = np.concatenate([np.zeros(n//2), np.ones(n//2)])\n",
    "train_labels, test_labels = labels[train_indices], labels[test_indices]"
   ]
  },
  {
   "cell_type": "code",
   "execution_count": 73,
   "metadata": {},
   "outputs": [
    {
     "name": "stdout",
     "output_type": "stream",
     "text": [
      "Accuracy = 0.936\n"
     ]
    }
   ],
   "source": [
    "classifier = LinKRR(train_data, train_labels, regularization_tradeoff)\n",
    "classifier.fit()\n",
    "predictions = classifier.predict_test(test_data)\n",
    "accuracy = np.mean(test_labels == predictions)\n",
    "print(f'Accuracy = {accuracy}')"
   ]
  },
  {
   "cell_type": "code",
   "execution_count": 74,
   "metadata": {},
   "outputs": [
    {
     "name": "stdout",
     "output_type": "stream",
     "text": [
      "Accuracy = 0.92\n"
     ]
    }
   ],
   "source": [
    "classifier = GaussKRR(train_data, train_labels, 100, 1.5)\n",
    "classifier.fit()\n",
    "predictions = classifier.predict_test(test_data)\n",
    "accuracy = np.mean(test_labels == predictions)\n",
    "print(f'Accuracy = {accuracy}')"
   ]
  },
  {
   "cell_type": "code",
   "execution_count": 75,
   "metadata": {},
   "outputs": [],
   "source": [
    "TRAIN_DATA_PATH = 'data/Xtr0.csv'\n",
    "TRAIN_EMBEDDING_PATH = 'data/Xtr0_mat100.csv'\n",
    "TRAIN_LABEL_PATH = 'data/Ytr0.csv'"
   ]
  },
  {
   "cell_type": "code",
   "execution_count": 76,
   "metadata": {},
   "outputs": [],
   "source": [
    "n_train, n_test = 1500, 500\n",
    "\n",
    "data = np.loadtxt(TRAIN_DATA_PATH, dtype=str,\n",
    "                  delimiter=',', skiprows=1, usecols=1)\n",
    "\n",
    "embeddings = np.loadtxt(TRAIN_EMBEDDING_PATH)\n",
    "train_embeddings, test_embeddings = embeddings[:n_train], embeddings[n_train:n_train+n_test]\n",
    "    \n",
    "labels = pd.read_csv(TRAIN_LABEL_PATH, index_col=0).to_numpy().squeeze()\n",
    "train_labels, test_labels = labels[:n_train], labels[n_train:n_train+n_test]"
   ]
  },
  {
   "cell_type": "markdown",
   "metadata": {},
   "source": [
    "## Linear kernel"
   ]
  },
  {
   "cell_type": "code",
   "execution_count": 86,
   "metadata": {},
   "outputs": [],
   "source": [
    "regularisation = [0.01, 0.05, 0.1, 0.5, 1, 10]\n",
    "accuracies = []\n",
    "\n",
    "for reg_lambda in regularisation:\n",
    "    classifier = LinKRR(train_embeddings, train_labels, reg_lambda)\n",
    "    classifier.fit()\n",
    "    predictions = classifier.predict_test(test_embeddings)\n",
    "    accuracy = np.mean(test_labels == predictions)\n",
    "    accuracies.append(accuracy)"
   ]
  },
  {
   "cell_type": "code",
   "execution_count": 87,
   "metadata": {},
   "outputs": [
    {
     "name": "stdout",
     "output_type": "stream",
     "text": [
      "[0.576, 0.59, 0.566, 0.58, 0.568, 0.524]\n"
     ]
    },
    {
     "data": {
      "image/png": "[encoded data removed]",
      "text/plain": [
       "<Figure size 432x288 with 1 Axes>"
      ]
     },
     "metadata": {
      "needs_background": "light"
     },
     "output_type": "display_data"
    }
   ],
   "source": [
    "plt.plot(regularisation, accuracies)\n",
    "plt.title(\"accuracy as a function of lambda\")\n",
    "plt.show()"
   ]
  },
  {
   "cell_type": "code",
   "execution_count": 100,
   "metadata": {},
   "outputs": [],
   "source": [
    "sig = np.linspace(1e-4, 1e-2, 100)\n",
    "accuracies = []\n",
    "\n",
    "for s in sig:\n",
    "    classifier = GaussKRR(train_embeddings, train_labels, 5, s)\n",
    "    classifier.fit()\n",
    "    predictions = classifier.predict_test(test_embeddings)\n",
    "    accuracy = np.mean(test_labels == predictions)\n",
    "    accuracies.append(accuracy)"
   ]
  },
  {
   "cell_type": "code",
   "execution_count": 102,
   "metadata": {},
   "outputs": [
    {
     "data": {
      "image/png": "[encoded data removed]",
      "text/plain": [
       "<Figure size 432x288 with 1 Axes>"
      ]
     },
     "metadata": {
      "needs_background": "light"
     },
     "output_type": "display_data"
    }
   ],
   "source": [
    "plt.plot(sig, accuracies)\n",
    "plt.title(\"accuracy as a function of sigma\")\n",
    "plt.xscale('log') \n",
    "\n",
    "plt.show()"
   ]
  },
  {
   "cell_type": "code",
   "execution_count": 114,
   "metadata": {},
   "outputs": [],
   "source": [
    "regularisation = np.linspace(1e-6, 1000, 10)\n",
    "accuracies = []\n",
    "\n",
    "for reg_lambda in regularisation:\n",
    "    classifier = GaussKRR(train_embeddings, train_labels, reg_lambda, 7e-4)\n",
    "    classifier.fit()\n",
    "    predictions = classifier.predict_test(test_embeddings)\n",
    "    accuracy = np.mean(test_labels == predictions)\n",
    "    accuracies.append(accuracy)"
   ]
  },
  {
   "cell_type": "code",
   "execution_count": 115,
   "metadata": {},
   "outputs": [
    {
     "data": {
      "image/png": "[encoded data removed]",
      "text/plain": [
       "<Figure size 432x288 with 1 Axes>"
      ]
     },
     "metadata": {
      "needs_background": "light"
     },
     "output_type": "display_data"
    }
   ],
   "source": [
    "plt.plot(regularisation, accuracies)\n",
    "plt.title(\"accuracy as a function of regularisation\")\n",
    "\n",
    "plt.show()"
   ]
  },
  {
   "cell_type": "code",
   "execution_count": null,
   "metadata": {},
   "outputs": [],
   "source": []
  }
 ],
 "metadata": {
  "kernelspec": {
   "display_name": "Python 3",
   "language": "python",
   "name": "python3"
  },
  "language_info": {
   "codemirror_mode": {
    "name": "ipython",
    "version": 3
   },
   "file_extension": ".py",
   "mimetype": "text/x-python",
   "name": "python",
   "nbconvert_exporter": "python",
   "pygments_lexer": "ipython3",
   "version": "3.7.9"
  }
 },
 "nbformat": 4,
 "nbformat_minor": 4
}
